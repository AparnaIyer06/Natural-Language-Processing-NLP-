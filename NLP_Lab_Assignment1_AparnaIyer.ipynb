{
  "cells": [
    {
      "cell_type": "markdown",
      "metadata": {
        "id": "view-in-github",
        "colab_type": "text"
      },
      "source": [
        "<a href=\"https://colab.research.google.com/github/AparnaIyer06/Natural-Language-Processing-NLP-/blob/main/NLP_Lab_Assignment1_AparnaIyer.ipynb\" target=\"_parent\"><img src=\"https://colab.research.google.com/assets/colab-badge.svg\" alt=\"Open In Colab\"/></a>"
      ]
    },
    {
      "cell_type": "markdown",
      "source": [
        "Name: Aparna Iyer\n",
        "\n",
        "PRN: 22070126017\n",
        "\n",
        "Batch: 2022-2026, AI-ML A1\n"
      ],
      "metadata": {
        "id": "nY-3pg4llpqP"
      }
    },
    {
      "cell_type": "code",
      "source": [
        "from google.colab import drive\n",
        "drive.mount('/content/drive')\n"
      ],
      "metadata": {
        "colab": {
          "base_uri": "https://localhost:8080/"
        },
        "id": "ar4n2V7wTCzq",
        "outputId": "9e0b8fff-93c4-4830-d7b4-5a200967eb06"
      },
      "execution_count": null,
      "outputs": [
        {
          "output_type": "stream",
          "name": "stdout",
          "text": [
            "Drive already mounted at /content/drive; to attempt to forcibly remount, call drive.mount(\"/content/drive\", force_remount=True).\n"
          ]
        }
      ]
    },
    {
      "cell_type": "code",
      "execution_count": null,
      "metadata": {
        "colab": {
          "base_uri": "https://localhost:8080/"
        },
        "id": "lbuUccIDajtP",
        "outputId": "dedc5bb0-1e99-485d-acd3-e5760e6e83d7"
      },
      "outputs": [
        {
          "output_type": "stream",
          "name": "stdout",
          "text": [
            "Requirement already satisfied: nltk in /usr/local/lib/python3.10/dist-packages (3.8.1)\n",
            "Requirement already satisfied: click in /usr/local/lib/python3.10/dist-packages (from nltk) (8.1.7)\n",
            "Requirement already satisfied: joblib in /usr/local/lib/python3.10/dist-packages (from nltk) (1.4.2)\n",
            "Requirement already satisfied: regex>=2021.8.3 in /usr/local/lib/python3.10/dist-packages (from nltk) (2024.7.24)\n",
            "Requirement already satisfied: tqdm in /usr/local/lib/python3.10/dist-packages (from nltk) (4.66.5)\n"
          ]
        }
      ],
      "source": [
        "pip install nltk\n"
      ]
    },
    {
      "cell_type": "code",
      "source": [
        "pip install chardet"
      ],
      "metadata": {
        "colab": {
          "base_uri": "https://localhost:8080/"
        },
        "id": "IM6JLOAU1y76",
        "outputId": "338eb0d8-0a2b-4e6b-9145-0ef4d62b6ce1"
      },
      "execution_count": null,
      "outputs": [
        {
          "output_type": "stream",
          "name": "stdout",
          "text": [
            "Requirement already satisfied: chardet in /usr/local/lib/python3.10/dist-packages (5.2.0)\n"
          ]
        }
      ]
    },
    {
      "cell_type": "code",
      "execution_count": null,
      "metadata": {
        "id": "ggS6RlqjBlOV"
      },
      "outputs": [],
      "source": [
        "import nltk          #Natural Language Toolkit\n",
        "import pandas as pd\n",
        "import re             #Regular Expressions\n",
        "from nltk.tokenize import word_tokenize\n",
        "from nltk.corpus import stopwords\n",
        "from nltk.stem import WordNetLemmatizer"
      ]
    },
    {
      "cell_type": "code",
      "execution_count": null,
      "metadata": {
        "colab": {
          "base_uri": "https://localhost:8080/"
        },
        "id": "G87_XcNzCMQM",
        "outputId": "de05a449-b32e-43fa-94b3-be1b9c46448f"
      },
      "outputs": [
        {
          "output_type": "stream",
          "name": "stderr",
          "text": [
            "[nltk_data] Downloading package punkt to /root/nltk_data...\n",
            "[nltk_data]   Package punkt is already up-to-date!\n",
            "[nltk_data] Downloading package stopwords to /root/nltk_data...\n",
            "[nltk_data]   Package stopwords is already up-to-date!\n",
            "[nltk_data] Downloading package wordnet to /root/nltk_data...\n",
            "[nltk_data]   Package wordnet is already up-to-date!\n",
            "[nltk_data] Downloading package omw-1.4 to /root/nltk_data...\n",
            "[nltk_data]   Package omw-1.4 is already up-to-date!\n"
          ]
        },
        {
          "output_type": "execute_result",
          "data": {
            "text/plain": [
              "True"
            ]
          },
          "metadata": {},
          "execution_count": 62
        }
      ],
      "source": [
        "nltk.download('punkt')  #For tokenization\n",
        "nltk.download('stopwords') #For stopword removal\n",
        "nltk.download('wordnet') #For lemmatization\n",
        "nltk.download('omw-1.4') #For cross-lingual lemmatization\n"
      ]
    },
    {
      "cell_type": "markdown",
      "metadata": {
        "id": "8xTG0KvuD7G7"
      },
      "source": [
        "##1. Define Pre-processing Functions"
      ]
    },
    {
      "cell_type": "code",
      "execution_count": null,
      "metadata": {
        "id": "b1YDjrHFDsU-"
      },
      "outputs": [],
      "source": [
        "#For Tokenization and Lemmatization\n",
        "\n",
        "#Preprocessing function: Tokenization and Lemmatization\n",
        "\n",
        "def preprocess_text(text):\n",
        "\n",
        "    #Creating an object of the class WordNetLemmatizer and storing it in lemmatizer\n",
        "    lemmatizer = WordNetLemmatizer()\n",
        "    # Tokenize\n",
        "    tokens = word_tokenize(text.lower())\n",
        "\n",
        "    # Lemmatize\n",
        "    tokens = [lemmatizer.lemmatize(token) for token in tokens]  #.lemmatize() is a method of the class WordNetLemmatizer\n",
        "\n",
        "    return tokens\n"
      ]
    },
    {
      "cell_type": "code",
      "execution_count": null,
      "metadata": {
        "id": "yFfOQn7wEl7S"
      },
      "outputs": [],
      "source": [
        "#Data Cleaning: Remove Stop-Words, Symbols, and URLs\n",
        "\n",
        "def clean_text(text):\n",
        "\n",
        "  stop_words = set(stopwords.words('english'))\n",
        "\n",
        "  # Convert non-string types to string\n",
        "  if not isinstance(text, str):\n",
        "      text = str(text)\n",
        "  # Remove URLs\n",
        "  #Using Regular Expressions library, re\n",
        "  text = re.sub(r'http\\S+|www\\S+|https\\S+', '', text, flags=re.MULTILINE)\n",
        "\n",
        "  # Remove symbols and numbers\n",
        "  text = re.sub(r'\\W', ' ', text)\n",
        "  text = re.sub(r'\\d', ' ', text)\n",
        "\n",
        "  # Tokenize and remove stopwords\n",
        "  tokens = word_tokenize(text.lower())\n",
        "  filtered_tokens = [word for word in tokens if word not in stop_words]\n",
        "\n",
        "  # Join tokens back into a string\n",
        "  return ' '.join(filtered_tokens)\n"
      ]
    },
    {
      "cell_type": "code",
      "execution_count": null,
      "metadata": {
        "id": "HCjTODyeFCFn",
        "colab": {
          "base_uri": "https://localhost:8080/"
        },
        "outputId": "950a1373-46af-4e4f-adf4-a02399deceb8"
      },
      "outputs": [
        {
          "output_type": "stream",
          "name": "stdout",
          "text": [
            "Detected encoding: ascii\n",
            "UnicodeDecodeError with encoding ascii. Trying 'latin1' encoding.\n",
            "            Id   ProductId          UserId     ProfileName  \\\n",
            "552084  552085  B0002NYO1G  A233VYR81F16N0   Julie Stefano   \n",
            "552085  552086  B0002NYO1G  A1KZ5IFFTOP7VN            Mary   \n",
            "552086  552087  B0002NYO1G  A10SORC6LLRCTF     K. Bernauer   \n",
            "552087  552088  B0002NYO1G  A1JUPMQ29HWR1W  Jon Mccullough   \n",
            "552088  552089  B000F3OBNY  A3AD1S5QPABFMJ          Soxrox   \n",
            "\n",
            "        HelpfulnessNumerator  HelpfulnessDenominator  Score        Time  \\\n",
            "552084                     0                       0      5  1316044800   \n",
            "552085                     0                       0      5  1312156800   \n",
            "552086                     1                      19      5  1216252800   \n",
            "552087                     1                      32      1  1227398400   \n",
            "552088                     2                       2      5  1297123200   \n",
            "\n",
            "                   Summary                                               Text  \n",
            "552084              Lovely  This was my first experience with cooking with...  \n",
            "552085   Culinary Lavender  Received within three days of order, well pack...  \n",
            "552086  Beyond wonderful !  This book has opened new vistas in culinary la...  \n",
            "552087    tastes like soap  having an interest in edible flower's lead me ...  \n",
            "552088           Great buy  I purchased this gift bag for my niece and nep...  \n"
          ]
        }
      ],
      "source": [
        "import pandas as pd\n",
        "import chardet\n",
        "\n",
        "def detect_encoding(file_path, num_bytes=10000):\n",
        "    \"\"\"\n",
        "    Detect the encoding of a file using chardet.\n",
        "    \"\"\"\n",
        "    with open(file_path, 'rb') as file:\n",
        "        raw_data = file.read(num_bytes)\n",
        "        result = chardet.detect(raw_data)\n",
        "        encoding = result['encoding']\n",
        "    return encoding\n",
        "\n",
        "def read_csv_with_encoding(file_path, encoding):\n",
        "    \"\"\"\n",
        "    Read a CSV file with the specified encoding.\n",
        "    \"\"\"\n",
        "    try:\n",
        "        df = pd.read_csv(file_path, encoding=encoding)\n",
        "    except UnicodeDecodeError:\n",
        "        print(f\"UnicodeDecodeError with encoding {encoding}. Trying 'latin1' encoding.\")\n",
        "        df = pd.read_csv(file_path, encoding='latin1')\n",
        "    return df\n",
        "\n",
        "# Define the path to your file\n",
        "#file_path = '/content/drive/MyDrive/Colab Notebooks/Reviews-2.csv'  # Replace with your file path\n",
        "file_path = '/content/drive/MyDrive/Colab Notebooks/Reviews-1.csv'  # Replace with your file path\n",
        "\n",
        "# Detect the encoding\n",
        "encoding = detect_encoding(file_path)\n",
        "print(f\"Detected encoding: {encoding}\")\n",
        "\n",
        "# Attempt to read the CSV file with the detected encoding\n",
        "df_reviews = read_csv_with_encoding(file_path, encoding)\n",
        "\n",
        "# Display the last 5 rows of the dataframe\n",
        "print(df_reviews.tail())"
      ]
    },
    {
      "cell_type": "code",
      "execution_count": null,
      "metadata": {
        "id": "Pj3W44EsJdr_",
        "colab": {
          "base_uri": "https://localhost:8080/",
          "height": 695
        },
        "outputId": "f6c42906-bc6d-4eed-8b3e-089f846ce0cc"
      },
      "outputs": [
        {
          "output_type": "execute_result",
          "data": {
            "text/plain": [
              "   Id   ProductId          UserId                      ProfileName  \\\n",
              "0   1  B001E4KFG0  A3SGXH7AUHU8GW                       delmartian   \n",
              "1   2  B00813GRG4  A1D87F6ZCVE5NK                           dll pa   \n",
              "2   3  B000LQOCH0   ABXLMWJIXXAIN  Natalia Corres \"Natalia Corres\"   \n",
              "3   4  B000UA0QIQ  A395BORC6FGVXV                             Karl   \n",
              "4   5  B006K2ZZ7K  A1UQRSCLF8GW1T    Michael D. Bigham \"M. Wassir\"   \n",
              "\n",
              "   HelpfulnessNumerator  HelpfulnessDenominator  Score        Time  \\\n",
              "0                     1                       1      5  1303862400   \n",
              "1                     0                       0      1  1346976000   \n",
              "2                     1                       1      4  1219017600   \n",
              "3                     3                       3      2  1307923200   \n",
              "4                     0                       0      5  1350777600   \n",
              "\n",
              "                 Summary                                               Text  \n",
              "0  Good Quality Dog Food  I have bought several of the Vitality canned d...  \n",
              "1      Not as Advertised  Product arrived labeled as Jumbo Salted Peanut...  \n",
              "2  \"Delight\" says it all  This is a confection that has been around a fe...  \n",
              "3         Cough Medicine  If you are looking for the secret ingredient i...  \n",
              "4            Great taffy  Great taffy at a great price.  There was a wid...  "
            ],
            "text/html": [
              "\n",
              "  <div id=\"df-15536f12-042e-469b-9a44-1347f3ebb0db\" class=\"colab-df-container\">\n",
              "    <div>\n",
              "<style scoped>\n",
              "    .dataframe tbody tr th:only-of-type {\n",
              "        vertical-align: middle;\n",
              "    }\n",
              "\n",
              "    .dataframe tbody tr th {\n",
              "        vertical-align: top;\n",
              "    }\n",
              "\n",
              "    .dataframe thead th {\n",
              "        text-align: right;\n",
              "    }\n",
              "</style>\n",
              "<table border=\"1\" class=\"dataframe\">\n",
              "  <thead>\n",
              "    <tr style=\"text-align: right;\">\n",
              "      <th></th>\n",
              "      <th>Id</th>\n",
              "      <th>ProductId</th>\n",
              "      <th>UserId</th>\n",
              "      <th>ProfileName</th>\n",
              "      <th>HelpfulnessNumerator</th>\n",
              "      <th>HelpfulnessDenominator</th>\n",
              "      <th>Score</th>\n",
              "      <th>Time</th>\n",
              "      <th>Summary</th>\n",
              "      <th>Text</th>\n",
              "    </tr>\n",
              "  </thead>\n",
              "  <tbody>\n",
              "    <tr>\n",
              "      <th>0</th>\n",
              "      <td>1</td>\n",
              "      <td>B001E4KFG0</td>\n",
              "      <td>A3SGXH7AUHU8GW</td>\n",
              "      <td>delmartian</td>\n",
              "      <td>1</td>\n",
              "      <td>1</td>\n",
              "      <td>5</td>\n",
              "      <td>1303862400</td>\n",
              "      <td>Good Quality Dog Food</td>\n",
              "      <td>I have bought several of the Vitality canned d...</td>\n",
              "    </tr>\n",
              "    <tr>\n",
              "      <th>1</th>\n",
              "      <td>2</td>\n",
              "      <td>B00813GRG4</td>\n",
              "      <td>A1D87F6ZCVE5NK</td>\n",
              "      <td>dll pa</td>\n",
              "      <td>0</td>\n",
              "      <td>0</td>\n",
              "      <td>1</td>\n",
              "      <td>1346976000</td>\n",
              "      <td>Not as Advertised</td>\n",
              "      <td>Product arrived labeled as Jumbo Salted Peanut...</td>\n",
              "    </tr>\n",
              "    <tr>\n",
              "      <th>2</th>\n",
              "      <td>3</td>\n",
              "      <td>B000LQOCH0</td>\n",
              "      <td>ABXLMWJIXXAIN</td>\n",
              "      <td>Natalia Corres \"Natalia Corres\"</td>\n",
              "      <td>1</td>\n",
              "      <td>1</td>\n",
              "      <td>4</td>\n",
              "      <td>1219017600</td>\n",
              "      <td>\"Delight\" says it all</td>\n",
              "      <td>This is a confection that has been around a fe...</td>\n",
              "    </tr>\n",
              "    <tr>\n",
              "      <th>3</th>\n",
              "      <td>4</td>\n",
              "      <td>B000UA0QIQ</td>\n",
              "      <td>A395BORC6FGVXV</td>\n",
              "      <td>Karl</td>\n",
              "      <td>3</td>\n",
              "      <td>3</td>\n",
              "      <td>2</td>\n",
              "      <td>1307923200</td>\n",
              "      <td>Cough Medicine</td>\n",
              "      <td>If you are looking for the secret ingredient i...</td>\n",
              "    </tr>\n",
              "    <tr>\n",
              "      <th>4</th>\n",
              "      <td>5</td>\n",
              "      <td>B006K2ZZ7K</td>\n",
              "      <td>A1UQRSCLF8GW1T</td>\n",
              "      <td>Michael D. Bigham \"M. Wassir\"</td>\n",
              "      <td>0</td>\n",
              "      <td>0</td>\n",
              "      <td>5</td>\n",
              "      <td>1350777600</td>\n",
              "      <td>Great taffy</td>\n",
              "      <td>Great taffy at a great price.  There was a wid...</td>\n",
              "    </tr>\n",
              "  </tbody>\n",
              "</table>\n",
              "</div>\n",
              "    <div class=\"colab-df-buttons\">\n",
              "\n",
              "  <div class=\"colab-df-container\">\n",
              "    <button class=\"colab-df-convert\" onclick=\"convertToInteractive('df-15536f12-042e-469b-9a44-1347f3ebb0db')\"\n",
              "            title=\"Convert this dataframe to an interactive table.\"\n",
              "            style=\"display:none;\">\n",
              "\n",
              "  <svg xmlns=\"http://www.w3.org/2000/svg\" height=\"24px\" viewBox=\"0 -960 960 960\">\n",
              "    <path d=\"M120-120v-720h720v720H120Zm60-500h600v-160H180v160Zm220 220h160v-160H400v160Zm0 220h160v-160H400v160ZM180-400h160v-160H180v160Zm440 0h160v-160H620v160ZM180-180h160v-160H180v160Zm440 0h160v-160H620v160Z\"/>\n",
              "  </svg>\n",
              "    </button>\n",
              "\n",
              "  <style>\n",
              "    .colab-df-container {\n",
              "      display:flex;\n",
              "      gap: 12px;\n",
              "    }\n",
              "\n",
              "    .colab-df-convert {\n",
              "      background-color: #E8F0FE;\n",
              "      border: none;\n",
              "      border-radius: 50%;\n",
              "      cursor: pointer;\n",
              "      display: none;\n",
              "      fill: #1967D2;\n",
              "      height: 32px;\n",
              "      padding: 0 0 0 0;\n",
              "      width: 32px;\n",
              "    }\n",
              "\n",
              "    .colab-df-convert:hover {\n",
              "      background-color: #E2EBFA;\n",
              "      box-shadow: 0px 1px 2px rgba(60, 64, 67, 0.3), 0px 1px 3px 1px rgba(60, 64, 67, 0.15);\n",
              "      fill: #174EA6;\n",
              "    }\n",
              "\n",
              "    .colab-df-buttons div {\n",
              "      margin-bottom: 4px;\n",
              "    }\n",
              "\n",
              "    [theme=dark] .colab-df-convert {\n",
              "      background-color: #3B4455;\n",
              "      fill: #D2E3FC;\n",
              "    }\n",
              "\n",
              "    [theme=dark] .colab-df-convert:hover {\n",
              "      background-color: #434B5C;\n",
              "      box-shadow: 0px 1px 3px 1px rgba(0, 0, 0, 0.15);\n",
              "      filter: drop-shadow(0px 1px 2px rgba(0, 0, 0, 0.3));\n",
              "      fill: #FFFFFF;\n",
              "    }\n",
              "  </style>\n",
              "\n",
              "    <script>\n",
              "      const buttonEl =\n",
              "        document.querySelector('#df-15536f12-042e-469b-9a44-1347f3ebb0db button.colab-df-convert');\n",
              "      buttonEl.style.display =\n",
              "        google.colab.kernel.accessAllowed ? 'block' : 'none';\n",
              "\n",
              "      async function convertToInteractive(key) {\n",
              "        const element = document.querySelector('#df-15536f12-042e-469b-9a44-1347f3ebb0db');\n",
              "        const dataTable =\n",
              "          await google.colab.kernel.invokeFunction('convertToInteractive',\n",
              "                                                    [key], {});\n",
              "        if (!dataTable) return;\n",
              "\n",
              "        const docLinkHtml = 'Like what you see? Visit the ' +\n",
              "          '<a target=\"_blank\" href=https://colab.research.google.com/notebooks/data_table.ipynb>data table notebook</a>'\n",
              "          + ' to learn more about interactive tables.';\n",
              "        element.innerHTML = '';\n",
              "        dataTable['output_type'] = 'display_data';\n",
              "        await google.colab.output.renderOutput(dataTable, element);\n",
              "        const docLink = document.createElement('div');\n",
              "        docLink.innerHTML = docLinkHtml;\n",
              "        element.appendChild(docLink);\n",
              "      }\n",
              "    </script>\n",
              "  </div>\n",
              "\n",
              "\n",
              "<div id=\"df-90e1484f-422d-4c1c-9e51-3444c8d5e0fc\">\n",
              "  <button class=\"colab-df-quickchart\" onclick=\"quickchart('df-90e1484f-422d-4c1c-9e51-3444c8d5e0fc')\"\n",
              "            title=\"Suggest charts\"\n",
              "            style=\"display:none;\">\n",
              "\n",
              "<svg xmlns=\"http://www.w3.org/2000/svg\" height=\"24px\"viewBox=\"0 0 24 24\"\n",
              "     width=\"24px\">\n",
              "    <g>\n",
              "        <path d=\"M19 3H5c-1.1 0-2 .9-2 2v14c0 1.1.9 2 2 2h14c1.1 0 2-.9 2-2V5c0-1.1-.9-2-2-2zM9 17H7v-7h2v7zm4 0h-2V7h2v10zm4 0h-2v-4h2v4z\"/>\n",
              "    </g>\n",
              "</svg>\n",
              "  </button>\n",
              "\n",
              "<style>\n",
              "  .colab-df-quickchart {\n",
              "      --bg-color: #E8F0FE;\n",
              "      --fill-color: #1967D2;\n",
              "      --hover-bg-color: #E2EBFA;\n",
              "      --hover-fill-color: #174EA6;\n",
              "      --disabled-fill-color: #AAA;\n",
              "      --disabled-bg-color: #DDD;\n",
              "  }\n",
              "\n",
              "  [theme=dark] .colab-df-quickchart {\n",
              "      --bg-color: #3B4455;\n",
              "      --fill-color: #D2E3FC;\n",
              "      --hover-bg-color: #434B5C;\n",
              "      --hover-fill-color: #FFFFFF;\n",
              "      --disabled-bg-color: #3B4455;\n",
              "      --disabled-fill-color: #666;\n",
              "  }\n",
              "\n",
              "  .colab-df-quickchart {\n",
              "    background-color: var(--bg-color);\n",
              "    border: none;\n",
              "    border-radius: 50%;\n",
              "    cursor: pointer;\n",
              "    display: none;\n",
              "    fill: var(--fill-color);\n",
              "    height: 32px;\n",
              "    padding: 0;\n",
              "    width: 32px;\n",
              "  }\n",
              "\n",
              "  .colab-df-quickchart:hover {\n",
              "    background-color: var(--hover-bg-color);\n",
              "    box-shadow: 0 1px 2px rgba(60, 64, 67, 0.3), 0 1px 3px 1px rgba(60, 64, 67, 0.15);\n",
              "    fill: var(--button-hover-fill-color);\n",
              "  }\n",
              "\n",
              "  .colab-df-quickchart-complete:disabled,\n",
              "  .colab-df-quickchart-complete:disabled:hover {\n",
              "    background-color: var(--disabled-bg-color);\n",
              "    fill: var(--disabled-fill-color);\n",
              "    box-shadow: none;\n",
              "  }\n",
              "\n",
              "  .colab-df-spinner {\n",
              "    border: 2px solid var(--fill-color);\n",
              "    border-color: transparent;\n",
              "    border-bottom-color: var(--fill-color);\n",
              "    animation:\n",
              "      spin 1s steps(1) infinite;\n",
              "  }\n",
              "\n",
              "  @keyframes spin {\n",
              "    0% {\n",
              "      border-color: transparent;\n",
              "      border-bottom-color: var(--fill-color);\n",
              "      border-left-color: var(--fill-color);\n",
              "    }\n",
              "    20% {\n",
              "      border-color: transparent;\n",
              "      border-left-color: var(--fill-color);\n",
              "      border-top-color: var(--fill-color);\n",
              "    }\n",
              "    30% {\n",
              "      border-color: transparent;\n",
              "      border-left-color: var(--fill-color);\n",
              "      border-top-color: var(--fill-color);\n",
              "      border-right-color: var(--fill-color);\n",
              "    }\n",
              "    40% {\n",
              "      border-color: transparent;\n",
              "      border-right-color: var(--fill-color);\n",
              "      border-top-color: var(--fill-color);\n",
              "    }\n",
              "    60% {\n",
              "      border-color: transparent;\n",
              "      border-right-color: var(--fill-color);\n",
              "    }\n",
              "    80% {\n",
              "      border-color: transparent;\n",
              "      border-right-color: var(--fill-color);\n",
              "      border-bottom-color: var(--fill-color);\n",
              "    }\n",
              "    90% {\n",
              "      border-color: transparent;\n",
              "      border-bottom-color: var(--fill-color);\n",
              "    }\n",
              "  }\n",
              "</style>\n",
              "\n",
              "  <script>\n",
              "    async function quickchart(key) {\n",
              "      const quickchartButtonEl =\n",
              "        document.querySelector('#' + key + ' button');\n",
              "      quickchartButtonEl.disabled = true;  // To prevent multiple clicks.\n",
              "      quickchartButtonEl.classList.add('colab-df-spinner');\n",
              "      try {\n",
              "        const charts = await google.colab.kernel.invokeFunction(\n",
              "            'suggestCharts', [key], {});\n",
              "      } catch (error) {\n",
              "        console.error('Error during call to suggestCharts:', error);\n",
              "      }\n",
              "      quickchartButtonEl.classList.remove('colab-df-spinner');\n",
              "      quickchartButtonEl.classList.add('colab-df-quickchart-complete');\n",
              "    }\n",
              "    (() => {\n",
              "      let quickchartButtonEl =\n",
              "        document.querySelector('#df-90e1484f-422d-4c1c-9e51-3444c8d5e0fc button');\n",
              "      quickchartButtonEl.style.display =\n",
              "        google.colab.kernel.accessAllowed ? 'block' : 'none';\n",
              "    })();\n",
              "  </script>\n",
              "</div>\n",
              "\n",
              "    </div>\n",
              "  </div>\n"
            ],
            "application/vnd.google.colaboratory.intrinsic+json": {
              "type": "dataframe",
              "variable_name": "df_reviews"
            }
          },
          "metadata": {},
          "execution_count": 66
        }
      ],
      "source": [
        "df_reviews.head()"
      ]
    },
    {
      "cell_type": "code",
      "execution_count": null,
      "metadata": {
        "id": "Q-66vivHJgAB",
        "colab": {
          "base_uri": "https://localhost:8080/"
        },
        "outputId": "7b7d0b4d-6c40-42e7-bbd1-bfc140752df5"
      },
      "outputs": [
        {
          "output_type": "execute_result",
          "data": {
            "text/plain": [
              "(552089, 10)"
            ]
          },
          "metadata": {},
          "execution_count": 67
        }
      ],
      "source": [
        "df_reviews.shape"
      ]
    },
    {
      "cell_type": "code",
      "execution_count": null,
      "metadata": {
        "id": "xNSER4bIIRx-"
      },
      "outputs": [],
      "source": [
        "# Apply cleansing\n",
        "df_reviews['cleaned_summary'] = df_reviews.iloc[:, -2].apply(clean_text)\n",
        "df_reviews['cleaned_text'] = df_reviews.iloc[:, -1].apply(clean_text)\n",
        "\n",
        "# Apply tokenization and lemmatization\n",
        "df_reviews['Summary'] = df_reviews['cleaned_summary'].apply(preprocess_text)\n",
        "df_reviews['Text'] = df_reviews['cleaned_text'].apply(preprocess_text)\n"
      ]
    },
    {
      "cell_type": "code",
      "execution_count": null,
      "metadata": {
        "id": "uJ6-P_9FJIUz",
        "colab": {
          "base_uri": "https://localhost:8080/",
          "height": 365
        },
        "outputId": "3c0c9751-c9b2-451a-8802-ddf409ad99d6"
      },
      "outputs": [
        {
          "output_type": "execute_result",
          "data": {
            "text/plain": [
              "   Id   ProductId          UserId                      ProfileName  \\\n",
              "0   1  B001E4KFG0  A3SGXH7AUHU8GW                       delmartian   \n",
              "1   2  B00813GRG4  A1D87F6ZCVE5NK                           dll pa   \n",
              "2   3  B000LQOCH0   ABXLMWJIXXAIN  Natalia Corres \"Natalia Corres\"   \n",
              "3   4  B000UA0QIQ  A395BORC6FGVXV                             Karl   \n",
              "4   5  B006K2ZZ7K  A1UQRSCLF8GW1T    Michael D. Bigham \"M. Wassir\"   \n",
              "\n",
              "   HelpfulnessNumerator  HelpfulnessDenominator  Score        Time  \\\n",
              "0                     1                       1      5  1303862400   \n",
              "1                     0                       0      1  1346976000   \n",
              "2                     1                       1      4  1219017600   \n",
              "3                     3                       3      2  1307923200   \n",
              "4                     0                       0      5  1350777600   \n",
              "\n",
              "                      Summary                        Text  \\\n",
              "0  [good, quality, dog, food]  [good, quality, dog, food]   \n",
              "1                [advertised]                [advertised]   \n",
              "2              [delight, say]              [delight, say]   \n",
              "3           [cough, medicine]           [cough, medicine]   \n",
              "4              [great, taffy]              [great, taffy]   \n",
              "\n",
              "         cleaned_summary           cleaned_text  \n",
              "0  good quality dog food  good quality dog food  \n",
              "1             advertised             advertised  \n",
              "2           delight says           delight says  \n",
              "3         cough medicine         cough medicine  \n",
              "4            great taffy            great taffy  "
            ],
            "text/html": [
              "\n",
              "  <div id=\"df-65ed64c6-1f92-464a-83e1-fc15f0337418\" class=\"colab-df-container\">\n",
              "    <div>\n",
              "<style scoped>\n",
              "    .dataframe tbody tr th:only-of-type {\n",
              "        vertical-align: middle;\n",
              "    }\n",
              "\n",
              "    .dataframe tbody tr th {\n",
              "        vertical-align: top;\n",
              "    }\n",
              "\n",
              "    .dataframe thead th {\n",
              "        text-align: right;\n",
              "    }\n",
              "</style>\n",
              "<table border=\"1\" class=\"dataframe\">\n",
              "  <thead>\n",
              "    <tr style=\"text-align: right;\">\n",
              "      <th></th>\n",
              "      <th>Id</th>\n",
              "      <th>ProductId</th>\n",
              "      <th>UserId</th>\n",
              "      <th>ProfileName</th>\n",
              "      <th>HelpfulnessNumerator</th>\n",
              "      <th>HelpfulnessDenominator</th>\n",
              "      <th>Score</th>\n",
              "      <th>Time</th>\n",
              "      <th>Summary</th>\n",
              "      <th>Text</th>\n",
              "      <th>cleaned_summary</th>\n",
              "      <th>cleaned_text</th>\n",
              "    </tr>\n",
              "  </thead>\n",
              "  <tbody>\n",
              "    <tr>\n",
              "      <th>0</th>\n",
              "      <td>1</td>\n",
              "      <td>B001E4KFG0</td>\n",
              "      <td>A3SGXH7AUHU8GW</td>\n",
              "      <td>delmartian</td>\n",
              "      <td>1</td>\n",
              "      <td>1</td>\n",
              "      <td>5</td>\n",
              "      <td>1303862400</td>\n",
              "      <td>[good, quality, dog, food]</td>\n",
              "      <td>[good, quality, dog, food]</td>\n",
              "      <td>good quality dog food</td>\n",
              "      <td>good quality dog food</td>\n",
              "    </tr>\n",
              "    <tr>\n",
              "      <th>1</th>\n",
              "      <td>2</td>\n",
              "      <td>B00813GRG4</td>\n",
              "      <td>A1D87F6ZCVE5NK</td>\n",
              "      <td>dll pa</td>\n",
              "      <td>0</td>\n",
              "      <td>0</td>\n",
              "      <td>1</td>\n",
              "      <td>1346976000</td>\n",
              "      <td>[advertised]</td>\n",
              "      <td>[advertised]</td>\n",
              "      <td>advertised</td>\n",
              "      <td>advertised</td>\n",
              "    </tr>\n",
              "    <tr>\n",
              "      <th>2</th>\n",
              "      <td>3</td>\n",
              "      <td>B000LQOCH0</td>\n",
              "      <td>ABXLMWJIXXAIN</td>\n",
              "      <td>Natalia Corres \"Natalia Corres\"</td>\n",
              "      <td>1</td>\n",
              "      <td>1</td>\n",
              "      <td>4</td>\n",
              "      <td>1219017600</td>\n",
              "      <td>[delight, say]</td>\n",
              "      <td>[delight, say]</td>\n",
              "      <td>delight says</td>\n",
              "      <td>delight says</td>\n",
              "    </tr>\n",
              "    <tr>\n",
              "      <th>3</th>\n",
              "      <td>4</td>\n",
              "      <td>B000UA0QIQ</td>\n",
              "      <td>A395BORC6FGVXV</td>\n",
              "      <td>Karl</td>\n",
              "      <td>3</td>\n",
              "      <td>3</td>\n",
              "      <td>2</td>\n",
              "      <td>1307923200</td>\n",
              "      <td>[cough, medicine]</td>\n",
              "      <td>[cough, medicine]</td>\n",
              "      <td>cough medicine</td>\n",
              "      <td>cough medicine</td>\n",
              "    </tr>\n",
              "    <tr>\n",
              "      <th>4</th>\n",
              "      <td>5</td>\n",
              "      <td>B006K2ZZ7K</td>\n",
              "      <td>A1UQRSCLF8GW1T</td>\n",
              "      <td>Michael D. Bigham \"M. Wassir\"</td>\n",
              "      <td>0</td>\n",
              "      <td>0</td>\n",
              "      <td>5</td>\n",
              "      <td>1350777600</td>\n",
              "      <td>[great, taffy]</td>\n",
              "      <td>[great, taffy]</td>\n",
              "      <td>great taffy</td>\n",
              "      <td>great taffy</td>\n",
              "    </tr>\n",
              "  </tbody>\n",
              "</table>\n",
              "</div>\n",
              "    <div class=\"colab-df-buttons\">\n",
              "\n",
              "  <div class=\"colab-df-container\">\n",
              "    <button class=\"colab-df-convert\" onclick=\"convertToInteractive('df-65ed64c6-1f92-464a-83e1-fc15f0337418')\"\n",
              "            title=\"Convert this dataframe to an interactive table.\"\n",
              "            style=\"display:none;\">\n",
              "\n",
              "  <svg xmlns=\"http://www.w3.org/2000/svg\" height=\"24px\" viewBox=\"0 -960 960 960\">\n",
              "    <path d=\"M120-120v-720h720v720H120Zm60-500h600v-160H180v160Zm220 220h160v-160H400v160Zm0 220h160v-160H400v160ZM180-400h160v-160H180v160Zm440 0h160v-160H620v160ZM180-180h160v-160H180v160Zm440 0h160v-160H620v160Z\"/>\n",
              "  </svg>\n",
              "    </button>\n",
              "\n",
              "  <style>\n",
              "    .colab-df-container {\n",
              "      display:flex;\n",
              "      gap: 12px;\n",
              "    }\n",
              "\n",
              "    .colab-df-convert {\n",
              "      background-color: #E8F0FE;\n",
              "      border: none;\n",
              "      border-radius: 50%;\n",
              "      cursor: pointer;\n",
              "      display: none;\n",
              "      fill: #1967D2;\n",
              "      height: 32px;\n",
              "      padding: 0 0 0 0;\n",
              "      width: 32px;\n",
              "    }\n",
              "\n",
              "    .colab-df-convert:hover {\n",
              "      background-color: #E2EBFA;\n",
              "      box-shadow: 0px 1px 2px rgba(60, 64, 67, 0.3), 0px 1px 3px 1px rgba(60, 64, 67, 0.15);\n",
              "      fill: #174EA6;\n",
              "    }\n",
              "\n",
              "    .colab-df-buttons div {\n",
              "      margin-bottom: 4px;\n",
              "    }\n",
              "\n",
              "    [theme=dark] .colab-df-convert {\n",
              "      background-color: #3B4455;\n",
              "      fill: #D2E3FC;\n",
              "    }\n",
              "\n",
              "    [theme=dark] .colab-df-convert:hover {\n",
              "      background-color: #434B5C;\n",
              "      box-shadow: 0px 1px 3px 1px rgba(0, 0, 0, 0.15);\n",
              "      filter: drop-shadow(0px 1px 2px rgba(0, 0, 0, 0.3));\n",
              "      fill: #FFFFFF;\n",
              "    }\n",
              "  </style>\n",
              "\n",
              "    <script>\n",
              "      const buttonEl =\n",
              "        document.querySelector('#df-65ed64c6-1f92-464a-83e1-fc15f0337418 button.colab-df-convert');\n",
              "      buttonEl.style.display =\n",
              "        google.colab.kernel.accessAllowed ? 'block' : 'none';\n",
              "\n",
              "      async function convertToInteractive(key) {\n",
              "        const element = document.querySelector('#df-65ed64c6-1f92-464a-83e1-fc15f0337418');\n",
              "        const dataTable =\n",
              "          await google.colab.kernel.invokeFunction('convertToInteractive',\n",
              "                                                    [key], {});\n",
              "        if (!dataTable) return;\n",
              "\n",
              "        const docLinkHtml = 'Like what you see? Visit the ' +\n",
              "          '<a target=\"_blank\" href=https://colab.research.google.com/notebooks/data_table.ipynb>data table notebook</a>'\n",
              "          + ' to learn more about interactive tables.';\n",
              "        element.innerHTML = '';\n",
              "        dataTable['output_type'] = 'display_data';\n",
              "        await google.colab.output.renderOutput(dataTable, element);\n",
              "        const docLink = document.createElement('div');\n",
              "        docLink.innerHTML = docLinkHtml;\n",
              "        element.appendChild(docLink);\n",
              "      }\n",
              "    </script>\n",
              "  </div>\n",
              "\n",
              "\n",
              "<div id=\"df-c34db15f-d669-41d9-b0d2-2084a9c42617\">\n",
              "  <button class=\"colab-df-quickchart\" onclick=\"quickchart('df-c34db15f-d669-41d9-b0d2-2084a9c42617')\"\n",
              "            title=\"Suggest charts\"\n",
              "            style=\"display:none;\">\n",
              "\n",
              "<svg xmlns=\"http://www.w3.org/2000/svg\" height=\"24px\"viewBox=\"0 0 24 24\"\n",
              "     width=\"24px\">\n",
              "    <g>\n",
              "        <path d=\"M19 3H5c-1.1 0-2 .9-2 2v14c0 1.1.9 2 2 2h14c1.1 0 2-.9 2-2V5c0-1.1-.9-2-2-2zM9 17H7v-7h2v7zm4 0h-2V7h2v10zm4 0h-2v-4h2v4z\"/>\n",
              "    </g>\n",
              "</svg>\n",
              "  </button>\n",
              "\n",
              "<style>\n",
              "  .colab-df-quickchart {\n",
              "      --bg-color: #E8F0FE;\n",
              "      --fill-color: #1967D2;\n",
              "      --hover-bg-color: #E2EBFA;\n",
              "      --hover-fill-color: #174EA6;\n",
              "      --disabled-fill-color: #AAA;\n",
              "      --disabled-bg-color: #DDD;\n",
              "  }\n",
              "\n",
              "  [theme=dark] .colab-df-quickchart {\n",
              "      --bg-color: #3B4455;\n",
              "      --fill-color: #D2E3FC;\n",
              "      --hover-bg-color: #434B5C;\n",
              "      --hover-fill-color: #FFFFFF;\n",
              "      --disabled-bg-color: #3B4455;\n",
              "      --disabled-fill-color: #666;\n",
              "  }\n",
              "\n",
              "  .colab-df-quickchart {\n",
              "    background-color: var(--bg-color);\n",
              "    border: none;\n",
              "    border-radius: 50%;\n",
              "    cursor: pointer;\n",
              "    display: none;\n",
              "    fill: var(--fill-color);\n",
              "    height: 32px;\n",
              "    padding: 0;\n",
              "    width: 32px;\n",
              "  }\n",
              "\n",
              "  .colab-df-quickchart:hover {\n",
              "    background-color: var(--hover-bg-color);\n",
              "    box-shadow: 0 1px 2px rgba(60, 64, 67, 0.3), 0 1px 3px 1px rgba(60, 64, 67, 0.15);\n",
              "    fill: var(--button-hover-fill-color);\n",
              "  }\n",
              "\n",
              "  .colab-df-quickchart-complete:disabled,\n",
              "  .colab-df-quickchart-complete:disabled:hover {\n",
              "    background-color: var(--disabled-bg-color);\n",
              "    fill: var(--disabled-fill-color);\n",
              "    box-shadow: none;\n",
              "  }\n",
              "\n",
              "  .colab-df-spinner {\n",
              "    border: 2px solid var(--fill-color);\n",
              "    border-color: transparent;\n",
              "    border-bottom-color: var(--fill-color);\n",
              "    animation:\n",
              "      spin 1s steps(1) infinite;\n",
              "  }\n",
              "\n",
              "  @keyframes spin {\n",
              "    0% {\n",
              "      border-color: transparent;\n",
              "      border-bottom-color: var(--fill-color);\n",
              "      border-left-color: var(--fill-color);\n",
              "    }\n",
              "    20% {\n",
              "      border-color: transparent;\n",
              "      border-left-color: var(--fill-color);\n",
              "      border-top-color: var(--fill-color);\n",
              "    }\n",
              "    30% {\n",
              "      border-color: transparent;\n",
              "      border-left-color: var(--fill-color);\n",
              "      border-top-color: var(--fill-color);\n",
              "      border-right-color: var(--fill-color);\n",
              "    }\n",
              "    40% {\n",
              "      border-color: transparent;\n",
              "      border-right-color: var(--fill-color);\n",
              "      border-top-color: var(--fill-color);\n",
              "    }\n",
              "    60% {\n",
              "      border-color: transparent;\n",
              "      border-right-color: var(--fill-color);\n",
              "    }\n",
              "    80% {\n",
              "      border-color: transparent;\n",
              "      border-right-color: var(--fill-color);\n",
              "      border-bottom-color: var(--fill-color);\n",
              "    }\n",
              "    90% {\n",
              "      border-color: transparent;\n",
              "      border-bottom-color: var(--fill-color);\n",
              "    }\n",
              "  }\n",
              "</style>\n",
              "\n",
              "  <script>\n",
              "    async function quickchart(key) {\n",
              "      const quickchartButtonEl =\n",
              "        document.querySelector('#' + key + ' button');\n",
              "      quickchartButtonEl.disabled = true;  // To prevent multiple clicks.\n",
              "      quickchartButtonEl.classList.add('colab-df-spinner');\n",
              "      try {\n",
              "        const charts = await google.colab.kernel.invokeFunction(\n",
              "            'suggestCharts', [key], {});\n",
              "      } catch (error) {\n",
              "        console.error('Error during call to suggestCharts:', error);\n",
              "      }\n",
              "      quickchartButtonEl.classList.remove('colab-df-spinner');\n",
              "      quickchartButtonEl.classList.add('colab-df-quickchart-complete');\n",
              "    }\n",
              "    (() => {\n",
              "      let quickchartButtonEl =\n",
              "        document.querySelector('#df-c34db15f-d669-41d9-b0d2-2084a9c42617 button');\n",
              "      quickchartButtonEl.style.display =\n",
              "        google.colab.kernel.accessAllowed ? 'block' : 'none';\n",
              "    })();\n",
              "  </script>\n",
              "</div>\n",
              "\n",
              "    </div>\n",
              "  </div>\n"
            ],
            "application/vnd.google.colaboratory.intrinsic+json": {
              "type": "dataframe",
              "variable_name": "df_reviews"
            }
          },
          "metadata": {},
          "execution_count": 69
        }
      ],
      "source": [
        "df_reviews.head()"
      ]
    },
    {
      "cell_type": "code",
      "source": [
        "df_reviews.tail()"
      ],
      "metadata": {
        "colab": {
          "base_uri": "https://localhost:8080/",
          "height": 296
        },
        "id": "4PZw2CpT0FW_",
        "outputId": "d682fcdb-c004-421e-e128-6b30740fa5f7"
      },
      "execution_count": null,
      "outputs": [
        {
          "output_type": "execute_result",
          "data": {
            "text/plain": [
              "            Id   ProductId          UserId     ProfileName  \\\n",
              "552084  552085  B0002NYO1G  A233VYR81F16N0   Julie Stefano   \n",
              "552085  552086  B0002NYO1G  A1KZ5IFFTOP7VN            Mary   \n",
              "552086  552087  B0002NYO1G  A10SORC6LLRCTF     K. Bernauer   \n",
              "552087  552088  B0002NYO1G  A1JUPMQ29HWR1W  Jon Mccullough   \n",
              "552088  552089  B000F3OBNY  A3AD1S5QPABFMJ          Soxrox   \n",
              "\n",
              "        HelpfulnessNumerator  HelpfulnessDenominator  Score        Time  \\\n",
              "552084                     0                       0      5  1316044800   \n",
              "552085                     0                       0      5  1312156800   \n",
              "552086                     1                      19      5  1216252800   \n",
              "552087                     1                      32      1  1227398400   \n",
              "552088                     2                       2      5  1297123200   \n",
              "\n",
              "                     Summary                  Text    cleaned_summary  \\\n",
              "552084              [lovely]              [lovely]             lovely   \n",
              "552085  [culinary, lavender]  [culinary, lavender]  culinary lavender   \n",
              "552086   [beyond, wonderful]   [beyond, wonderful]   beyond wonderful   \n",
              "552087   [taste, like, soap]   [taste, like, soap]   tastes like soap   \n",
              "552088          [great, buy]          [great, buy]          great buy   \n",
              "\n",
              "             cleaned_text  \n",
              "552084             lovely  \n",
              "552085  culinary lavender  \n",
              "552086   beyond wonderful  \n",
              "552087   tastes like soap  \n",
              "552088          great buy  "
            ],
            "text/html": [
              "\n",
              "  <div id=\"df-e2142318-2c20-4d81-b031-480f52dd5810\" class=\"colab-df-container\">\n",
              "    <div>\n",
              "<style scoped>\n",
              "    .dataframe tbody tr th:only-of-type {\n",
              "        vertical-align: middle;\n",
              "    }\n",
              "\n",
              "    .dataframe tbody tr th {\n",
              "        vertical-align: top;\n",
              "    }\n",
              "\n",
              "    .dataframe thead th {\n",
              "        text-align: right;\n",
              "    }\n",
              "</style>\n",
              "<table border=\"1\" class=\"dataframe\">\n",
              "  <thead>\n",
              "    <tr style=\"text-align: right;\">\n",
              "      <th></th>\n",
              "      <th>Id</th>\n",
              "      <th>ProductId</th>\n",
              "      <th>UserId</th>\n",
              "      <th>ProfileName</th>\n",
              "      <th>HelpfulnessNumerator</th>\n",
              "      <th>HelpfulnessDenominator</th>\n",
              "      <th>Score</th>\n",
              "      <th>Time</th>\n",
              "      <th>Summary</th>\n",
              "      <th>Text</th>\n",
              "      <th>cleaned_summary</th>\n",
              "      <th>cleaned_text</th>\n",
              "    </tr>\n",
              "  </thead>\n",
              "  <tbody>\n",
              "    <tr>\n",
              "      <th>552084</th>\n",
              "      <td>552085</td>\n",
              "      <td>B0002NYO1G</td>\n",
              "      <td>A233VYR81F16N0</td>\n",
              "      <td>Julie Stefano</td>\n",
              "      <td>0</td>\n",
              "      <td>0</td>\n",
              "      <td>5</td>\n",
              "      <td>1316044800</td>\n",
              "      <td>[lovely]</td>\n",
              "      <td>[lovely]</td>\n",
              "      <td>lovely</td>\n",
              "      <td>lovely</td>\n",
              "    </tr>\n",
              "    <tr>\n",
              "      <th>552085</th>\n",
              "      <td>552086</td>\n",
              "      <td>B0002NYO1G</td>\n",
              "      <td>A1KZ5IFFTOP7VN</td>\n",
              "      <td>Mary</td>\n",
              "      <td>0</td>\n",
              "      <td>0</td>\n",
              "      <td>5</td>\n",
              "      <td>1312156800</td>\n",
              "      <td>[culinary, lavender]</td>\n",
              "      <td>[culinary, lavender]</td>\n",
              "      <td>culinary lavender</td>\n",
              "      <td>culinary lavender</td>\n",
              "    </tr>\n",
              "    <tr>\n",
              "      <th>552086</th>\n",
              "      <td>552087</td>\n",
              "      <td>B0002NYO1G</td>\n",
              "      <td>A10SORC6LLRCTF</td>\n",
              "      <td>K. Bernauer</td>\n",
              "      <td>1</td>\n",
              "      <td>19</td>\n",
              "      <td>5</td>\n",
              "      <td>1216252800</td>\n",
              "      <td>[beyond, wonderful]</td>\n",
              "      <td>[beyond, wonderful]</td>\n",
              "      <td>beyond wonderful</td>\n",
              "      <td>beyond wonderful</td>\n",
              "    </tr>\n",
              "    <tr>\n",
              "      <th>552087</th>\n",
              "      <td>552088</td>\n",
              "      <td>B0002NYO1G</td>\n",
              "      <td>A1JUPMQ29HWR1W</td>\n",
              "      <td>Jon Mccullough</td>\n",
              "      <td>1</td>\n",
              "      <td>32</td>\n",
              "      <td>1</td>\n",
              "      <td>1227398400</td>\n",
              "      <td>[taste, like, soap]</td>\n",
              "      <td>[taste, like, soap]</td>\n",
              "      <td>tastes like soap</td>\n",
              "      <td>tastes like soap</td>\n",
              "    </tr>\n",
              "    <tr>\n",
              "      <th>552088</th>\n",
              "      <td>552089</td>\n",
              "      <td>B000F3OBNY</td>\n",
              "      <td>A3AD1S5QPABFMJ</td>\n",
              "      <td>Soxrox</td>\n",
              "      <td>2</td>\n",
              "      <td>2</td>\n",
              "      <td>5</td>\n",
              "      <td>1297123200</td>\n",
              "      <td>[great, buy]</td>\n",
              "      <td>[great, buy]</td>\n",
              "      <td>great buy</td>\n",
              "      <td>great buy</td>\n",
              "    </tr>\n",
              "  </tbody>\n",
              "</table>\n",
              "</div>\n",
              "    <div class=\"colab-df-buttons\">\n",
              "\n",
              "  <div class=\"colab-df-container\">\n",
              "    <button class=\"colab-df-convert\" onclick=\"convertToInteractive('df-e2142318-2c20-4d81-b031-480f52dd5810')\"\n",
              "            title=\"Convert this dataframe to an interactive table.\"\n",
              "            style=\"display:none;\">\n",
              "\n",
              "  <svg xmlns=\"http://www.w3.org/2000/svg\" height=\"24px\" viewBox=\"0 -960 960 960\">\n",
              "    <path d=\"M120-120v-720h720v720H120Zm60-500h600v-160H180v160Zm220 220h160v-160H400v160Zm0 220h160v-160H400v160ZM180-400h160v-160H180v160Zm440 0h160v-160H620v160ZM180-180h160v-160H180v160Zm440 0h160v-160H620v160Z\"/>\n",
              "  </svg>\n",
              "    </button>\n",
              "\n",
              "  <style>\n",
              "    .colab-df-container {\n",
              "      display:flex;\n",
              "      gap: 12px;\n",
              "    }\n",
              "\n",
              "    .colab-df-convert {\n",
              "      background-color: #E8F0FE;\n",
              "      border: none;\n",
              "      border-radius: 50%;\n",
              "      cursor: pointer;\n",
              "      display: none;\n",
              "      fill: #1967D2;\n",
              "      height: 32px;\n",
              "      padding: 0 0 0 0;\n",
              "      width: 32px;\n",
              "    }\n",
              "\n",
              "    .colab-df-convert:hover {\n",
              "      background-color: #E2EBFA;\n",
              "      box-shadow: 0px 1px 2px rgba(60, 64, 67, 0.3), 0px 1px 3px 1px rgba(60, 64, 67, 0.15);\n",
              "      fill: #174EA6;\n",
              "    }\n",
              "\n",
              "    .colab-df-buttons div {\n",
              "      margin-bottom: 4px;\n",
              "    }\n",
              "\n",
              "    [theme=dark] .colab-df-convert {\n",
              "      background-color: #3B4455;\n",
              "      fill: #D2E3FC;\n",
              "    }\n",
              "\n",
              "    [theme=dark] .colab-df-convert:hover {\n",
              "      background-color: #434B5C;\n",
              "      box-shadow: 0px 1px 3px 1px rgba(0, 0, 0, 0.15);\n",
              "      filter: drop-shadow(0px 1px 2px rgba(0, 0, 0, 0.3));\n",
              "      fill: #FFFFFF;\n",
              "    }\n",
              "  </style>\n",
              "\n",
              "    <script>\n",
              "      const buttonEl =\n",
              "        document.querySelector('#df-e2142318-2c20-4d81-b031-480f52dd5810 button.colab-df-convert');\n",
              "      buttonEl.style.display =\n",
              "        google.colab.kernel.accessAllowed ? 'block' : 'none';\n",
              "\n",
              "      async function convertToInteractive(key) {\n",
              "        const element = document.querySelector('#df-e2142318-2c20-4d81-b031-480f52dd5810');\n",
              "        const dataTable =\n",
              "          await google.colab.kernel.invokeFunction('convertToInteractive',\n",
              "                                                    [key], {});\n",
              "        if (!dataTable) return;\n",
              "\n",
              "        const docLinkHtml = 'Like what you see? Visit the ' +\n",
              "          '<a target=\"_blank\" href=https://colab.research.google.com/notebooks/data_table.ipynb>data table notebook</a>'\n",
              "          + ' to learn more about interactive tables.';\n",
              "        element.innerHTML = '';\n",
              "        dataTable['output_type'] = 'display_data';\n",
              "        await google.colab.output.renderOutput(dataTable, element);\n",
              "        const docLink = document.createElement('div');\n",
              "        docLink.innerHTML = docLinkHtml;\n",
              "        element.appendChild(docLink);\n",
              "      }\n",
              "    </script>\n",
              "  </div>\n",
              "\n",
              "\n",
              "<div id=\"df-f32329f1-1382-42a1-a9a3-88f8c261b182\">\n",
              "  <button class=\"colab-df-quickchart\" onclick=\"quickchart('df-f32329f1-1382-42a1-a9a3-88f8c261b182')\"\n",
              "            title=\"Suggest charts\"\n",
              "            style=\"display:none;\">\n",
              "\n",
              "<svg xmlns=\"http://www.w3.org/2000/svg\" height=\"24px\"viewBox=\"0 0 24 24\"\n",
              "     width=\"24px\">\n",
              "    <g>\n",
              "        <path d=\"M19 3H5c-1.1 0-2 .9-2 2v14c0 1.1.9 2 2 2h14c1.1 0 2-.9 2-2V5c0-1.1-.9-2-2-2zM9 17H7v-7h2v7zm4 0h-2V7h2v10zm4 0h-2v-4h2v4z\"/>\n",
              "    </g>\n",
              "</svg>\n",
              "  </button>\n",
              "\n",
              "<style>\n",
              "  .colab-df-quickchart {\n",
              "      --bg-color: #E8F0FE;\n",
              "      --fill-color: #1967D2;\n",
              "      --hover-bg-color: #E2EBFA;\n",
              "      --hover-fill-color: #174EA6;\n",
              "      --disabled-fill-color: #AAA;\n",
              "      --disabled-bg-color: #DDD;\n",
              "  }\n",
              "\n",
              "  [theme=dark] .colab-df-quickchart {\n",
              "      --bg-color: #3B4455;\n",
              "      --fill-color: #D2E3FC;\n",
              "      --hover-bg-color: #434B5C;\n",
              "      --hover-fill-color: #FFFFFF;\n",
              "      --disabled-bg-color: #3B4455;\n",
              "      --disabled-fill-color: #666;\n",
              "  }\n",
              "\n",
              "  .colab-df-quickchart {\n",
              "    background-color: var(--bg-color);\n",
              "    border: none;\n",
              "    border-radius: 50%;\n",
              "    cursor: pointer;\n",
              "    display: none;\n",
              "    fill: var(--fill-color);\n",
              "    height: 32px;\n",
              "    padding: 0;\n",
              "    width: 32px;\n",
              "  }\n",
              "\n",
              "  .colab-df-quickchart:hover {\n",
              "    background-color: var(--hover-bg-color);\n",
              "    box-shadow: 0 1px 2px rgba(60, 64, 67, 0.3), 0 1px 3px 1px rgba(60, 64, 67, 0.15);\n",
              "    fill: var(--button-hover-fill-color);\n",
              "  }\n",
              "\n",
              "  .colab-df-quickchart-complete:disabled,\n",
              "  .colab-df-quickchart-complete:disabled:hover {\n",
              "    background-color: var(--disabled-bg-color);\n",
              "    fill: var(--disabled-fill-color);\n",
              "    box-shadow: none;\n",
              "  }\n",
              "\n",
              "  .colab-df-spinner {\n",
              "    border: 2px solid var(--fill-color);\n",
              "    border-color: transparent;\n",
              "    border-bottom-color: var(--fill-color);\n",
              "    animation:\n",
              "      spin 1s steps(1) infinite;\n",
              "  }\n",
              "\n",
              "  @keyframes spin {\n",
              "    0% {\n",
              "      border-color: transparent;\n",
              "      border-bottom-color: var(--fill-color);\n",
              "      border-left-color: var(--fill-color);\n",
              "    }\n",
              "    20% {\n",
              "      border-color: transparent;\n",
              "      border-left-color: var(--fill-color);\n",
              "      border-top-color: var(--fill-color);\n",
              "    }\n",
              "    30% {\n",
              "      border-color: transparent;\n",
              "      border-left-color: var(--fill-color);\n",
              "      border-top-color: var(--fill-color);\n",
              "      border-right-color: var(--fill-color);\n",
              "    }\n",
              "    40% {\n",
              "      border-color: transparent;\n",
              "      border-right-color: var(--fill-color);\n",
              "      border-top-color: var(--fill-color);\n",
              "    }\n",
              "    60% {\n",
              "      border-color: transparent;\n",
              "      border-right-color: var(--fill-color);\n",
              "    }\n",
              "    80% {\n",
              "      border-color: transparent;\n",
              "      border-right-color: var(--fill-color);\n",
              "      border-bottom-color: var(--fill-color);\n",
              "    }\n",
              "    90% {\n",
              "      border-color: transparent;\n",
              "      border-bottom-color: var(--fill-color);\n",
              "    }\n",
              "  }\n",
              "</style>\n",
              "\n",
              "  <script>\n",
              "    async function quickchart(key) {\n",
              "      const quickchartButtonEl =\n",
              "        document.querySelector('#' + key + ' button');\n",
              "      quickchartButtonEl.disabled = true;  // To prevent multiple clicks.\n",
              "      quickchartButtonEl.classList.add('colab-df-spinner');\n",
              "      try {\n",
              "        const charts = await google.colab.kernel.invokeFunction(\n",
              "            'suggestCharts', [key], {});\n",
              "      } catch (error) {\n",
              "        console.error('Error during call to suggestCharts:', error);\n",
              "      }\n",
              "      quickchartButtonEl.classList.remove('colab-df-spinner');\n",
              "      quickchartButtonEl.classList.add('colab-df-quickchart-complete');\n",
              "    }\n",
              "    (() => {\n",
              "      let quickchartButtonEl =\n",
              "        document.querySelector('#df-f32329f1-1382-42a1-a9a3-88f8c261b182 button');\n",
              "      quickchartButtonEl.style.display =\n",
              "        google.colab.kernel.accessAllowed ? 'block' : 'none';\n",
              "    })();\n",
              "  </script>\n",
              "</div>\n",
              "\n",
              "    </div>\n",
              "  </div>\n"
            ],
            "application/vnd.google.colaboratory.intrinsic+json": {
              "type": "dataframe",
              "summary": "{\n  \"name\": \"df_reviews\",\n  \"rows\": 5,\n  \"fields\": [\n    {\n      \"column\": \"Id\",\n      \"properties\": {\n        \"dtype\": \"number\",\n        \"std\": 1,\n        \"min\": 552085,\n        \"max\": 552089,\n        \"num_unique_values\": 5,\n        \"samples\": [\n          552086,\n          552089,\n          552087\n        ],\n        \"semantic_type\": \"\",\n        \"description\": \"\"\n      }\n    },\n    {\n      \"column\": \"ProductId\",\n      \"properties\": {\n        \"dtype\": \"category\",\n        \"num_unique_values\": 2,\n        \"samples\": [\n          \"B000F3OBNY\",\n          \"B0002NYO1G\"\n        ],\n        \"semantic_type\": \"\",\n        \"description\": \"\"\n      }\n    },\n    {\n      \"column\": \"UserId\",\n      \"properties\": {\n        \"dtype\": \"string\",\n        \"num_unique_values\": 5,\n        \"samples\": [\n          \"A1KZ5IFFTOP7VN\",\n          \"A3AD1S5QPABFMJ\"\n        ],\n        \"semantic_type\": \"\",\n        \"description\": \"\"\n      }\n    },\n    {\n      \"column\": \"ProfileName\",\n      \"properties\": {\n        \"dtype\": \"string\",\n        \"num_unique_values\": 5,\n        \"samples\": [\n          \"Mary\",\n          \"Soxrox\"\n        ],\n        \"semantic_type\": \"\",\n        \"description\": \"\"\n      }\n    },\n    {\n      \"column\": \"HelpfulnessNumerator\",\n      \"properties\": {\n        \"dtype\": \"number\",\n        \"std\": 0,\n        \"min\": 0,\n        \"max\": 2,\n        \"num_unique_values\": 3,\n        \"samples\": [\n          0,\n          1\n        ],\n        \"semantic_type\": \"\",\n        \"description\": \"\"\n      }\n    },\n    {\n      \"column\": \"HelpfulnessDenominator\",\n      \"properties\": {\n        \"dtype\": \"number\",\n        \"std\": 14,\n        \"min\": 0,\n        \"max\": 32,\n        \"num_unique_values\": 4,\n        \"samples\": [\n          19,\n          2\n        ],\n        \"semantic_type\": \"\",\n        \"description\": \"\"\n      }\n    },\n    {\n      \"column\": \"Score\",\n      \"properties\": {\n        \"dtype\": \"number\",\n        \"std\": 1,\n        \"min\": 1,\n        \"max\": 5,\n        \"num_unique_values\": 2,\n        \"samples\": [\n          1,\n          5\n        ],\n        \"semantic_type\": \"\",\n        \"description\": \"\"\n      }\n    },\n    {\n      \"column\": \"Time\",\n      \"properties\": {\n        \"dtype\": \"number\",\n        \"std\": 48126467,\n        \"min\": 1216252800,\n        \"max\": 1316044800,\n        \"num_unique_values\": 5,\n        \"samples\": [\n          1312156800,\n          1297123200\n        ],\n        \"semantic_type\": \"\",\n        \"description\": \"\"\n      }\n    },\n    {\n      \"column\": \"Summary\",\n      \"properties\": {\n        \"dtype\": \"object\",\n        \"semantic_type\": \"\",\n        \"description\": \"\"\n      }\n    },\n    {\n      \"column\": \"Text\",\n      \"properties\": {\n        \"dtype\": \"object\",\n        \"semantic_type\": \"\",\n        \"description\": \"\"\n      }\n    },\n    {\n      \"column\": \"cleaned_summary\",\n      \"properties\": {\n        \"dtype\": \"string\",\n        \"num_unique_values\": 5,\n        \"samples\": [\n          \"culinary lavender\",\n          \"great buy\"\n        ],\n        \"semantic_type\": \"\",\n        \"description\": \"\"\n      }\n    },\n    {\n      \"column\": \"cleaned_text\",\n      \"properties\": {\n        \"dtype\": \"string\",\n        \"num_unique_values\": 5,\n        \"samples\": [\n          \"culinary lavender\",\n          \"great buy\"\n        ],\n        \"semantic_type\": \"\",\n        \"description\": \"\"\n      }\n    }\n  ]\n}"
            }
          },
          "metadata": {},
          "execution_count": 70
        }
      ]
    },
    {
      "cell_type": "markdown",
      "metadata": {
        "id": "x4uLyRogJJQY"
      },
      "source": [
        "##Vectorization"
      ]
    },
    {
      "cell_type": "code",
      "execution_count": null,
      "metadata": {
        "id": "eETHa14hJGT2"
      },
      "outputs": [],
      "source": [
        "from sklearn.feature_extraction.text import CountVectorizer, TfidfVectorizer #Count Vectorizer, Tf-idf Vectorizer\n"
      ]
    },
    {
      "cell_type": "code",
      "execution_count": null,
      "metadata": {
        "id": "S3yn5b2PJS-0"
      },
      "outputs": [],
      "source": [
        "texts = df_reviews['Text'].tolist()  # List of processed text\n",
        "\n",
        "summaries=df_reviews['Summary'].tolist() #List of processed Summaries\n"
      ]
    },
    {
      "cell_type": "code",
      "execution_count": null,
      "metadata": {
        "id": "yDEUetUyK7ZZ",
        "colab": {
          "base_uri": "https://localhost:8080/"
        },
        "outputId": "abeec924-956f-48b0-bf1a-389e69063152"
      },
      "outputs": [
        {
          "output_type": "stream",
          "name": "stdout",
          "text": [
            "[['good', 'quality', 'dog', 'food'], ['advertised'], ['delight', 'say'], ['cough', 'medicine'], ['great', 'taffy']]\n"
          ]
        }
      ],
      "source": [
        "print(texts[:5])"
      ]
    },
    {
      "cell_type": "code",
      "execution_count": null,
      "metadata": {
        "id": "UVcm_Jt4LNAi"
      },
      "outputs": [],
      "source": [
        "# As texts is a list of lists, join the tokens into strings\n",
        "texts = [' '.join(text) if isinstance(text, list) else text for text in texts]\n",
        "summaries = [' '.join(summary) if isinstance(summary, list) else summary for summary in summaries]"
      ]
    },
    {
      "cell_type": "code",
      "execution_count": null,
      "metadata": {
        "id": "7wpcPT7bLSyw",
        "colab": {
          "base_uri": "https://localhost:8080/"
        },
        "outputId": "d0f47662-eb4c-4860-dbb9-4d5a4a9ede4c"
      },
      "outputs": [
        {
          "output_type": "stream",
          "name": "stdout",
          "text": [
            "['good quality dog food', 'advertised', 'delight say', 'cough medicine', 'great taffy']\n",
            "['good quality dog food', 'advertised', 'delight say', 'cough medicine', 'great taffy']\n"
          ]
        }
      ],
      "source": [
        "print(texts[:5])\n",
        "print(summaries[:5])"
      ]
    },
    {
      "cell_type": "markdown",
      "metadata": {
        "id": "D5rnaI3BKRcI"
      },
      "source": [
        "## A. Count Vectorizer"
      ]
    },
    {
      "cell_type": "code",
      "execution_count": null,
      "metadata": {
        "id": "8uC_VjhDKKkp",
        "colab": {
          "base_uri": "https://localhost:8080/"
        },
        "outputId": "6072613d-851b-42d1-cddb-4f19f4a71dfd"
      },
      "outputs": [
        {
          "output_type": "stream",
          "name": "stdout",
          "text": [
            "   __  ____  ___________  ________________it  _______________it  __________it  \\\n",
            "0   0     0            0                   0                  0             0   \n",
            "1   0     0            0                   0                  0             0   \n",
            "2   0     0            0                   0                  0             0   \n",
            "3   0     0            0                   0                  0             0   \n",
            "4   0     0            0                   0                  0             0   \n",
            "\n",
            "   _not_  _very_  a_n_y  aa  ...  zylotol  zym  zyrup  zz  zzfantastic  zzzzs  \\\n",
            "0      0       0      0   0  ...        0    0      0   0            0      0   \n",
            "1      0       0      0   0  ...        0    0      0   0            0      0   \n",
            "2      0       0      0   0  ...        0    0      0   0            0      0   \n",
            "3      0       0      0   0  ...        0    0      0   0            0      0   \n",
            "4      0       0      0   0  ...        0    0      0   0            0      0   \n",
            "\n",
            "   zzzzz  zzzzzzzzz  zzzzzzzzzzz  â½  \n",
            "0      0          0            0   0  \n",
            "1      0          0            0   0  \n",
            "2      0          0            0   0  \n",
            "3      0          0            0   0  \n",
            "4      0          0            0   0  \n",
            "\n",
            "[5 rows x 29501 columns]\n"
          ]
        }
      ],
      "source": [
        "# Initialize CountVectorizer\n",
        "count_vectorizer = CountVectorizer()\n",
        "\n",
        "# Fit and transform the data\n",
        "count_matrix_texts = count_vectorizer.fit_transform(texts)\n",
        "\n",
        "# Convert to a DataFrame for better readability\n",
        "count_df_texts = pd.DataFrame(count_matrix_texts.toarray(), columns=count_vectorizer.get_feature_names_out())\n",
        "\n",
        "# Display the result\n",
        "print(count_df_texts.head())\n"
      ]
    },
    {
      "cell_type": "code",
      "execution_count": null,
      "metadata": {
        "id": "anXViiZcL4RS",
        "colab": {
          "base_uri": "https://localhost:8080/"
        },
        "outputId": "c7835008-435a-45d5-c325-cc6760f1badf"
      },
      "outputs": [
        {
          "output_type": "stream",
          "name": "stdout",
          "text": [
            "   __  ____  ___________  ________________it  _______________it  __________it  \\\n",
            "0   0     0            0                   0                  0             0   \n",
            "1   0     0            0                   0                  0             0   \n",
            "2   0     0            0                   0                  0             0   \n",
            "3   0     0            0                   0                  0             0   \n",
            "4   0     0            0                   0                  0             0   \n",
            "\n",
            "   _not_  _very_  a_n_y  aa  ...  zylotol  zym  zyrup  zz  zzfantastic  zzzzs  \\\n",
            "0      0       0      0   0  ...        0    0      0   0            0      0   \n",
            "1      0       0      0   0  ...        0    0      0   0            0      0   \n",
            "2      0       0      0   0  ...        0    0      0   0            0      0   \n",
            "3      0       0      0   0  ...        0    0      0   0            0      0   \n",
            "4      0       0      0   0  ...        0    0      0   0            0      0   \n",
            "\n",
            "   zzzzz  zzzzzzzzz  zzzzzzzzzzz  â½  \n",
            "0      0          0            0   0  \n",
            "1      0          0            0   0  \n",
            "2      0          0            0   0  \n",
            "3      0          0            0   0  \n",
            "4      0          0            0   0  \n",
            "\n",
            "[5 rows x 29510 columns]\n"
          ]
        }
      ],
      "source": [
        "count_matrix_summaries = count_vectorizer.fit_transform(summaries)\n",
        "\n",
        "# Convert to a DataFrame for better readability\n",
        "count_df_summaries = pd.DataFrame(count_matrix_summaries.toarray(), columns=count_vectorizer.get_feature_names_out())\n",
        "\n",
        "# Display the result\n",
        "print(count_df_summaries.head())"
      ]
    },
    {
      "cell_type": "markdown",
      "metadata": {
        "id": "zebAaz_9LllC"
      },
      "source": [
        "##B. Tf-Idf Vectorizer"
      ]
    },
    {
      "cell_type": "code",
      "execution_count": null,
      "metadata": {
        "id": "FSYgZzJwLojr",
        "colab": {
          "base_uri": "https://localhost:8080/"
        },
        "outputId": "22edf776-2c6e-42f4-fe54-d99ddee83400"
      },
      "outputs": [
        {
          "output_type": "stream",
          "name": "stdout",
          "text": [
            "    __  ____  ___________  ________________it  _______________it  \\\n",
            "0  0.0   0.0          0.0                 0.0                0.0   \n",
            "1  0.0   0.0          0.0                 0.0                0.0   \n",
            "2  0.0   0.0          0.0                 0.0                0.0   \n",
            "3  0.0   0.0          0.0                 0.0                0.0   \n",
            "4  0.0   0.0          0.0                 0.0                0.0   \n",
            "\n",
            "   __________it  _not_  _very_  a_n_y   aa  ...  zylotol  zym  zyrup   zz  \\\n",
            "0           0.0    0.0     0.0    0.0  0.0  ...      0.0  0.0    0.0  0.0   \n",
            "1           0.0    0.0     0.0    0.0  0.0  ...      0.0  0.0    0.0  0.0   \n",
            "2           0.0    0.0     0.0    0.0  0.0  ...      0.0  0.0    0.0  0.0   \n",
            "3           0.0    0.0     0.0    0.0  0.0  ...      0.0  0.0    0.0  0.0   \n",
            "4           0.0    0.0     0.0    0.0  0.0  ...      0.0  0.0    0.0  0.0   \n",
            "\n",
            "   zzfantastic  zzzzs  zzzzz  zzzzzzzzz  zzzzzzzzzzz   â½  \n",
            "0          0.0    0.0    0.0        0.0          0.0  0.0  \n",
            "1          0.0    0.0    0.0        0.0          0.0  0.0  \n",
            "2          0.0    0.0    0.0        0.0          0.0  0.0  \n",
            "3          0.0    0.0    0.0        0.0          0.0  0.0  \n",
            "4          0.0    0.0    0.0        0.0          0.0  0.0  \n",
            "\n",
            "[5 rows x 29501 columns]\n"
          ]
        }
      ],
      "source": [
        "# Initialize TfidfVectorizer\n",
        "tfidf_vectorizer = TfidfVectorizer()\n",
        "\n",
        "# Fit and transform the data\n",
        "tfidf_matrix_texts = tfidf_vectorizer.fit_transform(texts)\n",
        "\n",
        "# Convert to a DataFrame for better readability\n",
        "tfidf_df_texts = pd.DataFrame(tfidf_matrix_texts.toarray(), columns=tfidf_vectorizer.get_feature_names_out())\n",
        "\n",
        "# Display the result\n",
        "print(tfidf_df_texts.head())\n"
      ]
    },
    {
      "cell_type": "code",
      "execution_count": null,
      "metadata": {
        "id": "XLo--e7WME-A",
        "colab": {
          "base_uri": "https://localhost:8080/"
        },
        "outputId": "429272e2-60a3-49c8-fb13-759011bc5924"
      },
      "outputs": [
        {
          "output_type": "stream",
          "name": "stdout",
          "text": [
            "    __  ____  ___________  ________________it  _______________it  \\\n",
            "0  0.0   0.0          0.0                 0.0                0.0   \n",
            "1  0.0   0.0          0.0                 0.0                0.0   \n",
            "2  0.0   0.0          0.0                 0.0                0.0   \n",
            "3  0.0   0.0          0.0                 0.0                0.0   \n",
            "4  0.0   0.0          0.0                 0.0                0.0   \n",
            "\n",
            "   __________it  _not_  _very_  a_n_y   aa  ...  zylotol  zym  zyrup   zz  \\\n",
            "0           0.0    0.0     0.0    0.0  0.0  ...      0.0  0.0    0.0  0.0   \n",
            "1           0.0    0.0     0.0    0.0  0.0  ...      0.0  0.0    0.0  0.0   \n",
            "2           0.0    0.0     0.0    0.0  0.0  ...      0.0  0.0    0.0  0.0   \n",
            "3           0.0    0.0     0.0    0.0  0.0  ...      0.0  0.0    0.0  0.0   \n",
            "4           0.0    0.0     0.0    0.0  0.0  ...      0.0  0.0    0.0  0.0   \n",
            "\n",
            "   zzfantastic  zzzzs  zzzzz  zzzzzzzzz  zzzzzzzzzzz   â½  \n",
            "0          0.0    0.0    0.0        0.0          0.0  0.0  \n",
            "1          0.0    0.0    0.0        0.0          0.0  0.0  \n",
            "2          0.0    0.0    0.0        0.0          0.0  0.0  \n",
            "3          0.0    0.0    0.0        0.0          0.0  0.0  \n",
            "4          0.0    0.0    0.0        0.0          0.0  0.0  \n",
            "\n",
            "[5 rows x 29510 columns]\n"
          ]
        }
      ],
      "source": [
        "tfidf_matrix_summaries = tfidf_vectorizer.fit_transform(summaries)\n",
        "\n",
        "# Convert to a DataFrame for better readability\n",
        "tfidf_df_summaries = pd.DataFrame(tfidf_matrix_summaries.toarray(), columns=tfidf_vectorizer.get_feature_names_out())\n",
        "\n",
        "# Display the result\n",
        "print(tfidf_df_summaries.head())\n"
      ]
    },
    {
      "cell_type": "markdown",
      "metadata": {
        "id": "YUPPFkNTLRyo"
      },
      "source": [
        "##ML Algorithms"
      ]
    },
    {
      "cell_type": "code",
      "execution_count": null,
      "metadata": {
        "id": "u--aSK-LKo6N"
      },
      "outputs": [],
      "source": [
        "from sklearn.model_selection import train_test_split\n",
        "from sklearn.feature_extraction.text import CountVectorizer, TfidfVectorizer\n",
        "from sklearn.linear_model import LogisticRegression\n",
        "from sklearn.svm import SVC\n",
        "from sklearn.ensemble import RandomForestClassifier\n",
        "from sklearn.metrics import classification_report, accuracy_score\n",
        "import seaborn as sns\n",
        "import matplotlib.pyplot as plt\n",
        "import gc"
      ]
    },
    {
      "cell_type": "code",
      "execution_count": null,
      "metadata": {
        "id": "IgOH0iwJM5yg"
      },
      "outputs": [],
      "source": [
        "from sklearn.metrics import confusion_matrix\n"
      ]
    },
    {
      "cell_type": "code",
      "execution_count": null,
      "metadata": {
        "id": "uC316xLIL50R"
      },
      "outputs": [],
      "source": [
        "# Example criteria for labeling: basic keyword presence\n",
        "positive_keywords = ['good', 'great', 'excellent', 'positive', 'wonderful', 'best']\n",
        "negative_keywords = ['bad', 'terrible', 'poor', 'negative', 'worst']\n",
        "# Function to assign labels\n",
        "def label_review(text):\n",
        "    if isinstance(text, str):  # Check if text is a string\n",
        "\n",
        "        if any(word in text for word in positive_keywords):\n",
        "            return 1  # Positive\n",
        "        elif any(word in text for word in negative_keywords):\n",
        "            return -1  # Negative\n",
        "        else:\n",
        "            return 0  # Neutral or no sentiment\n",
        "    else:\n",
        "        #print(f\"Unexpected type: {type(text)}\")  # Debugging print statement\n",
        "        return None  # Handle non-string inputs\n",
        "\n",
        "df_reviews['Label'] = df_reviews['Text'].apply(label_review)\n",
        "# Function to assign labels\n",
        "def label_review(text):\n",
        "    if any(word in text for word in positive_keywords):\n",
        "        return 1  # Positive\n",
        "    elif any(word in text for word in negative_keywords):\n",
        "        return 0  # Negative\n",
        "    else:\n",
        "        return None  # Neutral or unknown\n",
        "\n",
        "# Apply labeling function to create a new 'Label' column\n",
        "df_reviews['Label'] = df_reviews['Text'].apply(label_review)\n",
        "\n",
        "# Optionally drop rows with None (neutral) labels\n",
        "df_reviews = df_reviews.dropna(subset=['Label'])"
      ]
    },
    {
      "cell_type": "code",
      "source": [
        "# Convert lists to strings\n",
        "df_reviews['Summary'] = df_reviews['Summary'].apply(lambda x: ' '.join(x) if isinstance(x, list) else str(x) if x is not None else '')\n",
        "df_reviews['Text'] = df_reviews['Text'].apply(lambda x: ' '.join(x) if isinstance(x, list) else str(x) if x is not None else '')\n",
        "\n",
        "# Combine 'Summary' and 'Text' columns into one\n",
        "df_reviews['combined_text'] = df_reviews['Summary'].fillna('') + ' ' + df_reviews['Text'].fillna('')"
      ],
      "metadata": {
        "id": "pFPHccjXsZGH"
      },
      "execution_count": null,
      "outputs": []
    },
    {
      "cell_type": "code",
      "source": [
        "# Split the data into training and testing sets\n",
        "X_train, X_test, y_train, y_test = train_test_split(df_reviews['combined_text'], df_reviews['Score'], test_size=0.2, random_state=42)\n",
        "\n",
        "# Define vectorizers\n",
        "vectorizers = {\n",
        "    'CountVectorizer': CountVectorizer(),\n",
        "    'TFIDFVectorizer': TfidfVectorizer()\n",
        "}"
      ],
      "metadata": {
        "id": "xQiJeJHasehj"
      },
      "execution_count": null,
      "outputs": []
    },
    {
      "cell_type": "code",
      "source": [
        "\n",
        "# Define models\n",
        "models = {\n",
        "    'Logistic Regression': LogisticRegression(max_iter=1000),\n",
        "    'Random Forest': RandomForestClassifier(),\n",
        "    'SVC': SVC()\n",
        "}"
      ],
      "metadata": {
        "id": "bUDx77hYshuC"
      },
      "execution_count": null,
      "outputs": []
    },
    {
      "cell_type": "code",
      "source": [
        "def train_and_evaluate_model(vectorizer_name, vectorizer, model_name, model, X_train, X_test, y_train, y_test):\n",
        "    # Transform the data\n",
        "    X_train_vect = vectorizer.fit_transform(X_train).tocsr()  # Convert to sparse format\n",
        "    X_test_vect = vectorizer.transform(X_test).tocsr()\n",
        "\n",
        "    # Train the model\n",
        "    model.fit(X_train_vect, y_train)\n",
        "\n",
        "    # Make predictions\n",
        "    y_pred = model.predict(X_test_vect)\n",
        "\n",
        "    # Evaluate the model\n",
        "    accuracy = accuracy_score(y_test, y_pred)\n",
        "    classification_rep = classification_report(y_test, y_pred)\n",
        "    print(f\"Using Vectorizer: {vectorizer_name}, Model: {model_name}\")\n",
        "    print(\"Accuracy:\", accuracy)\n",
        "    print(\"Classification Report:\\n\", classification_rep)\n",
        "\n",
        "    # Confusion Matrix\n",
        "    cm = confusion_matrix(y_test, y_pred)\n",
        "\n",
        "    # Plotting Confusion Matrix Heatmap\n",
        "    plt.figure(figsize=(8, 6))\n",
        "    sns.heatmap(cm, annot=True, fmt='d', cmap='Blues')\n",
        "    plt.title(f'Confusion Matrix for {model_name} with {vectorizer_name}')\n",
        "    plt.xlabel('Predicted Label')\n",
        "    plt.ylabel('True Label')\n",
        "    plt.show()\n",
        "\n",
        "    # Clear variables after each iteration\n",
        "    del X_train_vect, X_test_vect, y_pred, cm\n",
        "    gc.collect()  # Force garbage collection\n",
        "\n",
        "    print(\"=\"*80)\n"
      ],
      "metadata": {
        "id": "EJw1l_j40VkY"
      },
      "execution_count": null,
      "outputs": []
    },
    {
      "cell_type": "code",
      "source": [
        "# Iterate over vectorizers and models separately\n",
        "for vectorizer_name, vectorizer in vectorizers.items():\n",
        "    for model_name, model in models.items():\n",
        "        # Call the function for training and evaluating each model separately\n",
        "        train_and_evaluate_model(vectorizer_name, vectorizer, model_name, model, X_train, X_test, y_train, y_test)\n",
        "        #print(vectorizer_name,model_name)"
      ],
      "metadata": {
        "colab": {
          "base_uri": "https://localhost:8080/",
          "height": 1000
        },
        "id": "FefFU3Z00azf",
        "outputId": "21e72d41-7123-4160-e80d-4c8dd8d58fa2"
      },
      "execution_count": null,
      "outputs": [
        {
          "output_type": "stream",
          "name": "stdout",
          "text": [
            "Using Vectorizer: CountVectorizer, Model: Logistic Regression\n",
            "Accuracy: 0.7753497785469158\n",
            "Classification Report:\n",
            "               precision    recall  f1-score   support\n",
            "\n",
            "           1       0.64      0.61      0.62      1325\n",
            "           2       0.49      0.17      0.25       868\n",
            "           3       0.51      0.28      0.36      1867\n",
            "           4       0.53      0.27      0.35      5611\n",
            "           5       0.82      0.96      0.88     24422\n",
            "\n",
            "    accuracy                           0.78     34093\n",
            "   macro avg       0.60      0.46      0.49     34093\n",
            "weighted avg       0.74      0.78      0.74     34093\n",
            "\n"
          ]
        },
        {
          "output_type": "display_data",
          "data": {
            "text/plain": [
              "<Figure size 800x600 with 2 Axes>"
            ],
            "image/png": "[encoded data removed]"
          },
          "metadata": {}
        },
        {
          "output_type": "stream",
          "name": "stdout",
          "text": [
            "================================================================================\n",
            "Using Vectorizer: CountVectorizer, Model: Random Forest\n",
            "Accuracy: 0.8067051887484235\n",
            "Classification Report:\n",
            "               precision    recall  f1-score   support\n",
            "\n",
            "           1       0.76      0.66      0.70      1325\n",
            "           2       0.66      0.32      0.43       868\n",
            "           3       0.63      0.42      0.50      1867\n",
            "           4       0.60      0.42      0.50      5611\n",
            "           5       0.85      0.95      0.90     24422\n",
            "\n",
            "    accuracy                           0.81     34093\n",
            "   macro avg       0.70      0.55      0.61     34093\n",
            "weighted avg       0.79      0.81      0.79     34093\n",
            "\n"
          ]
        },
        {
          "output_type": "display_data",
          "data": {
            "text/plain": [
              "<Figure size 800x600 with 2 Axes>"
            ],
            "image/png": "[encoded data removed]"
          },
          "metadata": {}
        },
        {
          "output_type": "stream",
          "name": "stdout",
          "text": [
            "================================================================================\n",
            "Using Vectorizer: CountVectorizer, Model: SVC\n",
            "Accuracy: 0.8026281054761975\n",
            "Classification Report:\n",
            "               precision    recall  f1-score   support\n",
            "\n",
            "           1       0.77      0.61      0.68      1325\n",
            "           2       0.83      0.21      0.34       868\n",
            "           3       0.70      0.31      0.43      1867\n",
            "           4       0.64      0.34      0.45      5611\n",
            "           5       0.82      0.98      0.89     24422\n",
            "\n",
            "    accuracy                           0.80     34093\n",
            "   macro avg       0.75      0.49      0.56     34093\n",
            "weighted avg       0.78      0.80      0.77     34093\n",
            "\n"
          ]
        },
        {
          "output_type": "display_data",
          "data": {
            "text/plain": [
              "<Figure size 800x600 with 2 Axes>"
            ],
            "image/png": "[encoded data removed]"
          },
          "metadata": {}
        },
        {
          "output_type": "stream",
          "name": "stdout",
          "text": [
            "================================================================================\n",
            "Using Vectorizer: TFIDFVectorizer, Model: Logistic Regression\n",
            "Accuracy: 0.7614759628076144\n",
            "Classification Report:\n",
            "               precision    recall  f1-score   support\n",
            "\n",
            "           1       0.62      0.53      0.57      1325\n",
            "           2       0.47      0.06      0.10       868\n",
            "           3       0.51      0.18      0.27      1867\n",
            "           4       0.46      0.26      0.33      5611\n",
            "           5       0.81      0.96      0.88     24422\n",
            "\n",
            "    accuracy                           0.76     34093\n",
            "   macro avg       0.57      0.40      0.43     34093\n",
            "weighted avg       0.72      0.76      0.72     34093\n",
            "\n"
          ]
        },
        {
          "output_type": "display_data",
          "data": {
            "text/plain": [
              "<Figure size 800x600 with 2 Axes>"
            ],
            "image/png": "[encoded data removed]"
          },
          "metadata": {}
        },
        {
          "output_type": "stream",
          "name": "stdout",
          "text": [
            "================================================================================\n",
            "Using Vectorizer: TFIDFVectorizer, Model: Random Forest\n",
            "Accuracy: 0.8129234740269263\n",
            "Classification Report:\n",
            "               precision    recall  f1-score   support\n",
            "\n",
            "           1       0.75      0.67      0.71      1325\n",
            "           2       0.69      0.31      0.43       868\n",
            "           3       0.68      0.39      0.50      1867\n",
            "           4       0.65      0.41      0.50      5611\n",
            "           5       0.84      0.96      0.90     24422\n",
            "\n",
            "    accuracy                           0.81     34093\n",
            "   macro avg       0.72      0.55      0.61     34093\n",
            "weighted avg       0.80      0.81      0.79     34093\n",
            "\n"
          ]
        },
        {
          "output_type": "display_data",
          "data": {
            "text/plain": [
              "<Figure size 800x600 with 2 Axes>"
            ],
            "image/png": "[encoded data removed]"
          },
          "metadata": {}
        },
        {
          "output_type": "stream",
          "name": "stdout",
          "text": [
            "================================================================================\n",
            "Using Vectorizer: TFIDFVectorizer, Model: SVC\n",
            "Accuracy: 0.8058545742527792\n",
            "Classification Report:\n",
            "               precision    recall  f1-score   support\n",
            "\n",
            "           1       0.74      0.67      0.70      1325\n",
            "           2       0.80      0.24      0.36       868\n",
            "           3       0.69      0.34      0.46      1867\n",
            "           4       0.65      0.35      0.45      5611\n",
            "           5       0.83      0.97      0.90     24422\n",
            "\n",
            "    accuracy                           0.81     34093\n",
            "   macro avg       0.74      0.51      0.57     34093\n",
            "weighted avg       0.79      0.81      0.78     34093\n",
            "\n"
          ]
        },
        {
          "output_type": "display_data",
          "data": {
            "text/plain": [
              "<Figure size 800x600 with 2 Axes>"
            ],
            "image/png": "[encoded data removed]"
          },
          "metadata": {}
        },
        {
          "output_type": "stream",
          "name": "stdout",
          "text": [
            "================================================================================\n"
          ]
        }
      ]
    },
    {
      "cell_type": "code",
      "source": [
        "!apt-get install texlive texlive-xetex texlive-latex-extra pandoc\n",
        "!pip install pypandoc"
      ],
      "metadata": {
        "id": "aZPpL5J13pyQ",
        "collapsed": true
      },
      "execution_count": null,
      "outputs": []
    },
    {
      "cell_type": "code",
      "source": [
        "!jupyter nbconvert --to PDF \"drive/My Drive/Colab Notebooks/NLP_Lab_Assignment1 (All Data).ipynb\""
      ],
      "metadata": {
        "colab": {
          "base_uri": "https://localhost:8080/"
        },
        "id": "GBIAwleZ3zy7",
        "outputId": "32fe8daf-b512-4b9c-f793-9fd9407727e4"
      },
      "execution_count": null,
      "outputs": [
        {
          "output_type": "stream",
          "name": "stdout",
          "text": [
            "[NbConvertApp] Converting notebook drive/My Drive/Colab Notebooks/NLP_Lab_Assignment1 (All Data).ipynb to PDF\n",
            "[NbConvertApp] Support files will be in NLP_Lab_Assignment1 (All Data)_files/\n",
            "[NbConvertApp] Making directory ./NLP_Lab_Assignment1 (All Data)_files\n",
            "[NbConvertApp] Writing 75708 bytes to notebook.tex\n",
            "[NbConvertApp] Building PDF\n",
            "[NbConvertApp] Running xelatex 3 times: ['xelatex', 'notebook.tex', '-quiet']\n",
            "[NbConvertApp] Running bibtex 1 time: ['bibtex', 'notebook']\n",
            "[NbConvertApp] WARNING | bibtex had problems, most likely because there were no citations\n",
            "[NbConvertApp] PDF successfully created\n",
            "[NbConvertApp] Writing 261653 bytes to drive/My Drive/Colab Notebooks/NLP_Lab_Assignment1 (All Data).pdf\n"
          ]
        }
      ]
    }
  ],
  "metadata": {
    "colab": {
      "provenance": [],
      "toc_visible": true,
      "machine_shape": "hm",
      "gpuType": "V28",
      "include_colab_link": true
    },
    "kernelspec": {
      "display_name": "Python 3",
      "name": "python3"
    },
    "language_info": {
      "name": "python"
    },
    "accelerator": "TPU"
  },
  "nbformat": 4,
  "nbformat_minor": 0
}